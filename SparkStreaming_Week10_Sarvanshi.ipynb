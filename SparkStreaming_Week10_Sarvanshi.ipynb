{
 "cells": [
  {
   "cell_type": "code",
   "execution_count": 1,
   "id": "e5b587e5",
   "metadata": {},
   "outputs": [
    {
     "name": "stdout",
     "output_type": "stream",
     "text": [
      "put: `/user/ana007588/train.csv': File exists\n"
     ]
    }
   ],
   "source": [
    "!hdfs dfs -put train.csv /user/$USER"
   ]
  },
  {
   "cell_type": "code",
   "execution_count": 2,
   "id": "e735b476",
   "metadata": {},
   "outputs": [
    {
     "name": "stdout",
     "output_type": "stream",
     "text": [
      "Found 6 items\n",
      "drwxr-xr-x   - ana007588 supergroup          0 2023-06-27 15:15 /user/ana007588/.sparkStaging\n",
      "drwxr-xr-x   - ana007588 supergroup          0 2023-06-24 13:22 /user/ana007588/datasets\n",
      "drwxr-xr-x   - ana007588 supergroup          0 2023-06-12 15:21 /user/ana007588/demo_dir\n",
      "-rw-r--r--   3 ana007588 supergroup    9598228 2023-06-24 13:38 /user/ana007588/test.csv\n",
      "-rw-r--r--   3 ana007588 supergroup   25525678 2023-06-24 13:38 /user/ana007588/train.csv\n",
      "-rw-r--r--   3 ana007588 supergroup        424 2023-06-24 01:56 /user/ana007588/users_01.dat\n"
     ]
    }
   ],
   "source": [
    "!hdfs dfs -ls /user/$USER"
   ]
  },
  {
   "cell_type": "code",
   "execution_count": 3,
   "id": "5ac8405f",
   "metadata": {},
   "outputs": [],
   "source": [
    "# importing the required libraries\n",
    "from pyspark.sql import SparkSession\n",
    "import pyspark.sql.types as tp\n",
    "from pyspark.sql import functions as F\n",
    "\n",
    "# libraries to make plots\n",
    "import matplotlib.pyplot as plt\n",
    "%matplotlib inline"
   ]
  },
  {
   "cell_type": "code",
   "execution_count": 4,
   "id": "8185a536",
   "metadata": {},
   "outputs": [
    {
     "name": "stderr",
     "output_type": "stream",
     "text": [
      "/home/ana007588/.local/lib/python3.6/site-packages/pyspark/context.py:238: FutureWarning: Python 3.6 support is deprecated in Spark 3.2.\n",
      "  FutureWarning\n"
     ]
    },
    {
     "name": "stdout",
     "output_type": "stream",
     "text": [
      "<class 'pyspark.sql.session.SparkSession'>\n"
     ]
    }
   ],
   "source": [
    "# creating spark session\n",
    "spark = SparkSession.builder.getOrCreate()\n",
    "print(type(spark))"
   ]
  },
  {
   "cell_type": "code",
   "execution_count": 5,
   "id": "81605573",
   "metadata": {},
   "outputs": [],
   "source": [
    "# reading the training data\n",
    "train_data = spark.read.csv(\"train.csv\",inferSchema=True, header=True)"
   ]
  },
  {
   "cell_type": "code",
   "execution_count": 6,
   "id": "7deff3ca",
   "metadata": {},
   "outputs": [
    {
     "name": "stdout",
     "output_type": "stream",
     "text": [
      "<class 'pyspark.sql.dataframe.DataFrame'>\n"
     ]
    }
   ],
   "source": [
    "print(type(train_data))"
   ]
  },
  {
   "cell_type": "code",
   "execution_count": 7,
   "id": "d3630672",
   "metadata": {},
   "outputs": [
    {
     "name": "stdout",
     "output_type": "stream",
     "text": [
      "+---+-----+--------------------+\n",
      "| id|label|               tweet|\n",
      "+---+-----+--------------------+\n",
      "|  1|    0| @user when a fat...|\n",
      "|  2|    0|@user @user thank...|\n",
      "|  3|    0|  bihday your maj...|\n",
      "|  4|    0|#model   i love u...|\n",
      "|  5|    0| factsguide: soci...|\n",
      "|  6|    0|[2/2] huge fan fa...|\n",
      "|  7|    0| @user camping to...|\n",
      "|  8|    0|the next school y...|\n",
      "|  9|    0|we won!!! love th...|\n",
      "| 10|    0| @user @user welc...|\n",
      "| 11|    0| â #ireland con...|\n",
      "| 12|    0|we are so selfish...|\n",
      "| 13|    0|i get to see my d...|\n",
      "| 14|    1|@user #cnn calls ...|\n",
      "| 15|    1|no comment!  in #...|\n",
      "| 16|    0|ouch...junior is ...|\n",
      "| 17|    0|i am thankful for...|\n",
      "| 18|    1|retweet if you ag...|\n",
      "| 19|    0|its #friday! ð...|\n",
      "| 20|    0|as we all know, e...|\n",
      "+---+-----+--------------------+\n",
      "only showing top 20 rows\n",
      "\n"
     ]
    }
   ],
   "source": [
    "train_data.show()"
   ]
  },
  {
   "cell_type": "code",
   "execution_count": 8,
   "id": "f930ca85",
   "metadata": {},
   "outputs": [
    {
     "name": "stdout",
     "output_type": "stream",
     "text": [
      "Training Data: (31962,3)\n"
     ]
    }
   ],
   "source": [
    "# shape of dataframe\n",
    "print(\"Training Data: ({},{})\".format(train_data.count(), len(train_data.columns)))"
   ]
  },
  {
   "cell_type": "markdown",
   "id": "14c6f3db",
   "metadata": {},
   "source": [
    "There are 31962 rows in the training data."
   ]
  },
  {
   "cell_type": "code",
   "execution_count": 9,
   "id": "f882c374",
   "metadata": {},
   "outputs": [
    {
     "data": {
      "text/plain": [
       "' @user when a father is dysfunctional and is so selfish he drags his kids into his dysfunction.   #run'"
      ]
     },
     "execution_count": 9,
     "metadata": {},
     "output_type": "execute_result"
    }
   ],
   "source": [
    "train_data.collect()[0][2]"
   ]
  },
  {
   "cell_type": "code",
   "execution_count": 10,
   "id": "6bb6cfd1",
   "metadata": {},
   "outputs": [
    {
     "data": {
      "text/plain": [
       "['id', 'label', 'tweet']"
      ]
     },
     "execution_count": 10,
     "metadata": {},
     "output_type": "execute_result"
    }
   ],
   "source": [
    "train_data.columns"
   ]
  },
  {
   "cell_type": "code",
   "execution_count": 11,
   "id": "9c5c0ac9",
   "metadata": {},
   "outputs": [
    {
     "name": "stdout",
     "output_type": "stream",
     "text": [
      "root\n",
      " |-- id: integer (nullable = true)\n",
      " |-- label: integer (nullable = true)\n",
      " |-- tweet: string (nullable = true)\n",
      "\n"
     ]
    }
   ],
   "source": [
    "# datatypes\n",
    "train_data.printSchema()"
   ]
  },
  {
   "cell_type": "code",
   "execution_count": 12,
   "id": "a17907be",
   "metadata": {},
   "outputs": [
    {
     "name": "stdout",
     "output_type": "stream",
     "text": [
      "id 0\n",
      "label 0\n",
      "tweet 0\n"
     ]
    }
   ],
   "source": [
    "# checking for null values\n",
    "for c in train_data.columns:\n",
    "    # define the condition\n",
    "    missing_values = F.isnull(c)\n",
    "    \n",
    "    # filter the data with condition and count the number of data points\n",
    "    missing_values = train_data.filter(missing_values).count()\n",
    "    \n",
    "    # print the result\n",
    "    print(c, missing_values)"
   ]
  },
  {
   "cell_type": "markdown",
   "id": "5155680c",
   "metadata": {},
   "source": [
    "There are no null values present in the given data."
   ]
  },
  {
   "cell_type": "code",
   "execution_count": 13,
   "id": "d2be0617",
   "metadata": {},
   "outputs": [
    {
     "name": "stdout",
     "output_type": "stream",
     "text": [
      "id has  31962  distinct values\n",
      "label has  2  distinct values\n",
      "tweet has  29528  distinct values\n"
     ]
    }
   ],
   "source": [
    "# counting the distinct values in each column\n",
    "for c in train_data.columns:\n",
    "    print(c,\"has \" ,train_data.select(F.col(c)).distinct().count(), \" distinct values\")"
   ]
  },
  {
   "cell_type": "markdown",
   "id": "6769a45d",
   "metadata": {},
   "source": [
    "1. There are 31962 unique values in the id, which means it is specific to each row, hence will not contribute any meaning to the model.\n",
    "2. There are only 2 distinct values in label column, means there are only 2 categories of labels.\n",
    "3. There are only 29528 unique tweets, which is less than the total number of rows. This indicate there are duplicate tweets as well in the dataset. So let's check for these. "
   ]
  },
  {
   "cell_type": "code",
   "execution_count": 14,
   "id": "ab1a8b37",
   "metadata": {},
   "outputs": [
    {
     "name": "stdout",
     "output_type": "stream",
     "text": [
      "+--------------------+-----+\n",
      "|               tweet|count|\n",
      "+--------------------+-----+\n",
      "|#model   i love u...|  319|\n",
      "|i finally found a...|   82|\n",
      "|aww yeah it's all...|   75|\n",
      "|i'm so   and #gra...|   56|\n",
      "|@user you might b...|   40|\n",
      "|you might be a li...|   32|\n",
      "|ð #love #insta...|   29|\n",
      "|have my lover sto...|   26|\n",
      "|\"#flagday2016   #...|   22|\n",
      "|get #up get   get...|   21|\n",
      "|#sikh #temple van...|   20|\n",
      "|@user #feminismis...|   20|\n",
      "|save $$ no logins...|   17|\n",
      "|can #lighttherapy...|   16|\n",
      "|best essential oi...|   14|\n",
      "|#music as #therap...|   14|\n",
      "|what is a #detoxd...|   14|\n",
      "|does #magnetthera...|   14|\n",
      "|can #lighttherapy...|   14|\n",
      "|best #essentialoi...|   14|\n",
      "+--------------------+-----+\n",
      "only showing top 20 rows\n",
      "\n"
     ]
    }
   ],
   "source": [
    "train_data \\\n",
    "    .groupby([\"tweet\"]) \\\n",
    "    .count() \\\n",
    "    .where('count > 1') \\\n",
    "    .sort('count', ascending=False) \\\n",
    "    .show() "
   ]
  },
  {
   "cell_type": "code",
   "execution_count": 15,
   "id": "cd1f38fd",
   "metadata": {},
   "outputs": [
    {
     "name": "stdout",
     "output_type": "stream",
     "text": [
      "+-----+-----+----------+\n",
      "|label|count|percentage|\n",
      "+-----+-----+----------+\n",
      "|    1| 2242|    7.0146|\n",
      "|    0|29720|   92.9854|\n",
      "+-----+-----+----------+\n",
      "\n"
     ]
    }
   ],
   "source": [
    "# checking for distribution of data\n",
    "train_data.groupBy(\"label\").agg(F.count(\"label\").alias(\"count\"),\n",
    "                                             F.round((F.count(\"label\")/train_data.count())*100, 4).alias(\"percentage\")).show()"
   ]
  },
  {
   "cell_type": "markdown",
   "id": "5cb33f5f",
   "metadata": {},
   "source": [
    "The dataset is highly imbalanced."
   ]
  },
  {
   "cell_type": "code",
   "execution_count": 16,
   "id": "fdaad5a1",
   "metadata": {},
   "outputs": [
    {
     "name": "stdout",
     "output_type": "stream",
     "text": [
      "+-------------------------+\n",
      "|size(split(tweet,  , -1))|\n",
      "+-------------------------+\n",
      "|                       21|\n",
      "|                       22|\n",
      "|                        5|\n",
      "|                       17|\n",
      "|                        8|\n",
      "|                       21|\n",
      "|                       12|\n",
      "|                       23|\n",
      "|                       13|\n",
      "|                       15|\n",
      "|                       21|\n",
      "|                       16|\n",
      "|                       11|\n",
      "|                       14|\n",
      "|                       13|\n",
      "|                        9|\n",
      "|                       14|\n",
      "|                        5|\n",
      "|                       16|\n",
      "|                       12|\n",
      "+-------------------------+\n",
      "only showing top 20 rows\n",
      "\n"
     ]
    }
   ],
   "source": [
    "# checking\n",
    "train_data.select(F.size(F.split(F.col(\"tweet\"), \" \"))).show()"
   ]
  },
  {
   "cell_type": "code",
   "execution_count": 17,
   "id": "8685232f",
   "metadata": {},
   "outputs": [],
   "source": [
    "# counting the length of the tweet\n",
    "train_data = train_data.withColumn(\"len_tweet\",F.length(F.col(\"tweet\")))"
   ]
  },
  {
   "cell_type": "code",
   "execution_count": 18,
   "id": "de03e797",
   "metadata": {},
   "outputs": [
    {
     "data": {
      "image/png": "[encoded data removed]",
      "text/plain": [
       "<Figure size 432x288 with 1 Axes>"
      ]
     },
     "metadata": {
      "needs_background": "light"
     },
     "output_type": "display_data"
    }
   ],
   "source": [
    "# plotting\n",
    "plot = train_data.toPandas()\n",
    "plt.hist(plot['len_tweet'])\n",
    "plt.xlabel(\"Length of tweets\")\n",
    "plt.ylabel(\"Frequency\")\n",
    "plt.show()"
   ]
  },
  {
   "cell_type": "code",
   "execution_count": 19,
   "id": "1f98a1e9",
   "metadata": {},
   "outputs": [],
   "source": [
    "# counting the number of words in a tweet\n",
    "train_data = train_data.withColumn(\"word_count\",F.size(F.split(F.col(\"tweet\"), \" \")))"
   ]
  },
  {
   "cell_type": "code",
   "execution_count": 20,
   "id": "0d929736",
   "metadata": {},
   "outputs": [
    {
     "data": {
      "image/png": "[encoded data removed]",
      "text/plain": [
       "<Figure size 432x288 with 1 Axes>"
      ]
     },
     "metadata": {
      "needs_background": "light"
     },
     "output_type": "display_data"
    }
   ],
   "source": [
    "# plotting\n",
    "plot = train_data.toPandas()\n",
    "plt.hist(plot['word_count'])\n",
    "plt.xlabel(\"Word_count\")\n",
    "plt.ylabel(\"Frequency\")\n",
    "plt.show()"
   ]
  },
  {
   "cell_type": "code",
   "execution_count": 21,
   "id": "582aabfa",
   "metadata": {},
   "outputs": [
    {
     "data": {
      "text/plain": [
       "0    0.929854\n",
       "1    0.070146\n",
       "Name: label, dtype: float64"
      ]
     },
     "execution_count": 21,
     "metadata": {},
     "output_type": "execute_result"
    }
   ],
   "source": [
    "# checking the distribution of labels\n",
    "plot['label'].value_counts()/ len(plot['label'])"
   ]
  },
  {
   "cell_type": "code",
   "execution_count": 22,
   "id": "a619407a",
   "metadata": {},
   "outputs": [
    {
     "data": {
      "image/png": "[encoded data removed]",
      "text/plain": [
       "<Figure size 432x288 with 1 Axes>"
      ]
     },
     "metadata": {
      "needs_background": "light"
     },
     "output_type": "display_data"
    }
   ],
   "source": [
    "plt.bar(['0', '1'], plot['label'].value_counts()/ len(plot['label']))\n",
    "plt.xlabel(\"Label\")\n",
    "plt.ylabel(\"Percentage\")\n",
    "plt.show()"
   ]
  },
  {
   "cell_type": "code",
   "execution_count": 23,
   "id": "2773d742",
   "metadata": {},
   "outputs": [
    {
     "name": "stdout",
     "output_type": "stream",
     "text": [
      "root\n",
      " |-- id: integer (nullable = true)\n",
      " |-- label: integer (nullable = true)\n",
      " |-- tweet: string (nullable = true)\n",
      " |-- len_tweet: integer (nullable = true)\n",
      " |-- word_count: integer (nullable = false)\n",
      "\n"
     ]
    }
   ],
   "source": [
    "train_data.printSchema()"
   ]
  },
  {
   "cell_type": "markdown",
   "id": "8e3ad264",
   "metadata": {},
   "source": [
    "# Text Preprocessing"
   ]
  },
  {
   "cell_type": "code",
   "execution_count": 24,
   "id": "5888851d",
   "metadata": {},
   "outputs": [],
   "source": [
    "# clean tweets\n",
    "train_data = train_data.withColumn(\"tidy\", (F.lower(F.regexp_replace('tweet', \"@[\\w]*\", \"\"))))  # removing username\n",
    "train_data = train_data.withColumn(\"tidy\", (F.lower(F.regexp_replace('tidy', \"[^ a-zA-Z#]\", \"\"))))  # removing punctuation and special characters"
   ]
  },
  {
   "cell_type": "code",
   "execution_count": 25,
   "id": "503b9287",
   "metadata": {},
   "outputs": [
    {
     "name": "stdout",
     "output_type": "stream",
     "text": [
      "+---+-----+--------------------+---------+----------+--------------------+\n",
      "| id|label|               tweet|len_tweet|word_count|                tidy|\n",
      "+---+-----+--------------------+---------+----------+--------------------+\n",
      "|  1|    0| @user when a fat...|      102|        21|  when a father i...|\n",
      "|  2|    0|@user @user thank...|      122|        22|  thanks for #lyf...|\n",
      "|  3|    0|  bihday your maj...|       21|         5|  bihday your maj...|\n",
      "|  4|    0|#model   i love u...|       86|        17|#model   i love u...|\n",
      "|  5|    0| factsguide: soci...|       39|         8| factsguide socie...|\n",
      "|  6|    0|[2/2] huge fan fa...|      116|        21| huge fan fare an...|\n",
      "|  7|    0| @user camping to...|       74|        12|  camping tomorro...|\n",
      "|  8|    0|the next school y...|      143|        23|the next school y...|\n",
      "|  9|    0|we won!!! love th...|       87|        13|we won love the l...|\n",
      "| 10|    0| @user @user welc...|       50|        15|   welcome here  ...|\n",
      "| 11|    0| â #ireland con...|      111|        21|  #ireland consum...|\n",
      "| 12|    0|we are so selfish...|      133|        16|we are so selfish...|\n",
      "| 13|    0|i get to see my d...|       51|        11|i get to see my d...|\n",
      "| 14|    1|@user #cnn calls ...|       74|        14| #cnn calls #mich...|\n",
      "| 15|    1|no comment!  in #...|      101|        13|no comment  in #a...|\n",
      "| 16|    0|ouch...junior is ...|       56|         9|ouchjunior is ang...|\n",
      "| 17|    0|i am thankful for...|       58|        14|i am thankful for...|\n",
      "| 18|    1|retweet if you ag...|       22|         5|retweet if you ag...|\n",
      "| 19|    0|its #friday! ð...|       78|        16|its #friday  smil...|\n",
      "| 20|    0|as we all know, e...|       58|        12|as we all know es...|\n",
      "+---+-----+--------------------+---------+----------+--------------------+\n",
      "only showing top 20 rows\n",
      "\n"
     ]
    }
   ],
   "source": [
    "train_data.show()"
   ]
  },
  {
   "cell_type": "code",
   "execution_count": 26,
   "id": "a98ad6f2",
   "metadata": {},
   "outputs": [],
   "source": [
    "#pip install nltk"
   ]
  },
  {
   "cell_type": "code",
   "execution_count": 27,
   "id": "d7cb4348",
   "metadata": {},
   "outputs": [],
   "source": [
    "# importing required libraries\n",
    "from pyspark.ml.feature import Tokenizer, StopWordsRemover\n",
    "from nltk.stem.snowball import SnowballStemmer\n",
    "from nltk.stem.porter import PorterStemmer\n",
    "from pyspark.sql.types import *\n",
    "from pyspark.sql.functions import udf, col, lower, regexp_replace"
   ]
  },
  {
   "cell_type": "code",
   "execution_count": 28,
   "id": "c7cb4950",
   "metadata": {},
   "outputs": [],
   "source": [
    "# Tokenize tweets\n",
    "tokenizer = Tokenizer(inputCol='tidy', outputCol='words_token')\n",
    "df_words_token = tokenizer.transform(train_data).select('id', 'words_token')"
   ]
  },
  {
   "cell_type": "code",
   "execution_count": 29,
   "id": "aa5d26f1",
   "metadata": {},
   "outputs": [
    {
     "name": "stdout",
     "output_type": "stream",
     "text": [
      "+---+--------------------+\n",
      "| id|         words_token|\n",
      "+---+--------------------+\n",
      "|  1|[, , when, a, fat...|\n",
      "|  2|[, , thanks, for,...|\n",
      "|  3|[, , bihday, your...|\n",
      "|  4|[#model, , , i, l...|\n",
      "|  5|[, factsguide, so...|\n",
      "|  6|[, huge, fan, far...|\n",
      "|  7|[, , camping, tom...|\n",
      "|  8|[the, next, schoo...|\n",
      "|  9|[we, won, love, t...|\n",
      "| 10|[, , , welcome, h...|\n",
      "| 11|[, , #ireland, co...|\n",
      "| 12|[we, are, so, sel...|\n",
      "| 13|[i, get, to, see,...|\n",
      "| 14|[, #cnn, calls, #...|\n",
      "| 15|[no, comment, , i...|\n",
      "| 16|[ouchjunior, is, ...|\n",
      "| 17|[i, am, thankful,...|\n",
      "| 18|[retweet, if, you...|\n",
      "| 19|[its, #friday, , ...|\n",
      "| 20|[as, we, all, kno...|\n",
      "+---+--------------------+\n",
      "only showing top 20 rows\n",
      "\n"
     ]
    }
   ],
   "source": [
    "df_words_token.show()"
   ]
  },
  {
   "cell_type": "code",
   "execution_count": 30,
   "id": "575fe85f",
   "metadata": {},
   "outputs": [],
   "source": [
    "# Remove stop words\n",
    "remover = StopWordsRemover(inputCol='words_token', outputCol='words_clean')\n",
    "df_words_no_stopw = remover.transform(df_words_token).select('id', 'words_clean')"
   ]
  },
  {
   "cell_type": "code",
   "execution_count": 31,
   "id": "f96ef7f9",
   "metadata": {},
   "outputs": [
    {
     "name": "stdout",
     "output_type": "stream",
     "text": [
      "+---+--------------------+\n",
      "| id|         words_clean|\n",
      "+---+--------------------+\n",
      "|  1|[, , father, dysf...|\n",
      "|  2|[, , thanks, #lyf...|\n",
      "|  3|[, , bihday, maje...|\n",
      "|  4|[#model, , , love...|\n",
      "|  5|[, factsguide, so...|\n",
      "|  6|[, huge, fan, far...|\n",
      "|  7|[, , camping, tom...|\n",
      "|  8|[next, school, ye...|\n",
      "|  9|[won, love, land,...|\n",
      "| 10|[, , , welcome, ,...|\n",
      "| 11|[, , #ireland, co...|\n",
      "| 12|[selfish, #orland...|\n",
      "| 13|[get, see, daddy,...|\n",
      "| 14|[, #cnn, calls, #...|\n",
      "| 15|[comment, , #aust...|\n",
      "| 16|[ouchjunior, angr...|\n",
      "| 17|[thankful, paner,...|\n",
      "| 18|    [retweet, agree]|\n",
      "| 19|[#friday, , smile...|\n",
      "| 20|[know, essential,...|\n",
      "+---+--------------------+\n",
      "only showing top 20 rows\n",
      "\n"
     ]
    }
   ],
   "source": [
    "df_words_no_stopw.show()"
   ]
  },
  {
   "cell_type": "code",
   "execution_count": 32,
   "id": "b8c593ed",
   "metadata": {},
   "outputs": [],
   "source": [
    "#pip install -U regex"
   ]
  },
  {
   "cell_type": "code",
   "execution_count": 33,
   "id": "2d3922d9",
   "metadata": {},
   "outputs": [],
   "source": [
    "# Stem tweets\n",
    "stemmer = PorterStemmer()\n",
    "stemmer_udf = F.udf(lambda tokens: [stemmer.stem(token) for token in tokens], ArrayType(StringType()))\n",
    "df_stemmed = df_words_no_stopw.withColumn(\"words_stemmed\", stemmer_udf(\"words_clean\")).select('id', 'words_stemmed')"
   ]
  },
  {
   "cell_type": "code",
   "execution_count": 34,
   "id": "b2ea8b7c",
   "metadata": {},
   "outputs": [
    {
     "name": "stdout",
     "output_type": "stream",
     "text": [
      "+---+--------------------+\n",
      "| id|       words_stemmed|\n",
      "+---+--------------------+\n",
      "|  1|[, , father, dysf...|\n",
      "|  2|[, , thank, #lyft...|\n",
      "|  3|[, , bihday, maje...|\n",
      "|  4|[#model, , , love...|\n",
      "|  5|[, factsguid, soc...|\n",
      "|  6|[, huge, fan, far...|\n",
      "|  7|[, , camp, tomorr...|\n",
      "|  8|[next, school, ye...|\n",
      "|  9|[won, love, land,...|\n",
      "| 10|[, , , welcom, , ...|\n",
      "| 11|[, , #ireland, co...|\n",
      "| 12|[selfish, #orland...|\n",
      "| 13|[get, see, daddi,...|\n",
      "| 14|[, #cnn, call, #m...|\n",
      "| 15|[comment, , #aust...|\n",
      "| 16|[ouchjunior, angr...|\n",
      "| 17|[thank, paner, #t...|\n",
      "| 18|     [retweet, agre]|\n",
      "| 19|[#friday, , smile...|\n",
      "| 20|[know, essenti, o...|\n",
      "+---+--------------------+\n",
      "only showing top 20 rows\n",
      "\n"
     ]
    }
   ],
   "source": [
    "df_stemmed.show()"
   ]
  },
  {
   "cell_type": "code",
   "execution_count": 35,
   "id": "48bc292a",
   "metadata": {},
   "outputs": [],
   "source": [
    "# Filter length word > 3\n",
    "filter_length_udf = F.udf(lambda row: [x for x in row if len(x) >= 3], ArrayType(StringType()))\n",
    "df_final_words = df_stemmed.withColumn('words', filter_length_udf(col('words_stemmed')))"
   ]
  },
  {
   "cell_type": "code",
   "execution_count": 36,
   "id": "d26f3763",
   "metadata": {},
   "outputs": [
    {
     "name": "stdout",
     "output_type": "stream",
     "text": [
      "+---+--------------------+--------------------+\n",
      "| id|       words_stemmed|               words|\n",
      "+---+--------------------+--------------------+\n",
      "|  1|[, , father, dysf...|[father, dysfunct...|\n",
      "|  2|[, , thank, #lyft...|[thank, #lyft, cr...|\n",
      "|  3|[, , bihday, maje...|   [bihday, majesti]|\n",
      "|  4|[#model, , , love...|[#model, love, ta...|\n",
      "|  5|[, factsguid, soc...|[factsguid, socie...|\n",
      "|  6|[, huge, fan, far...|[huge, fan, fare,...|\n",
      "|  7|[, , camp, tomorr...|[camp, tomorrow, ...|\n",
      "|  8|[next, school, ye...|[next, school, ye...|\n",
      "|  9|[won, love, land,...|[won, love, land,...|\n",
      "| 10|[, , , welcom, , ...|       [welcom, #gr]|\n",
      "| 11|[, , #ireland, co...|[#ireland, consum...|\n",
      "| 12|[selfish, #orland...|[selfish, #orland...|\n",
      "| 13|[get, see, daddi,...|[get, see, daddi,...|\n",
      "| 14|[, #cnn, call, #m...|[#cnn, call, #mic...|\n",
      "| 15|[comment, , #aust...|[comment, #austra...|\n",
      "| 16|[ouchjunior, angr...|[ouchjunior, angr...|\n",
      "| 17|[thank, paner, #t...|[thank, paner, #t...|\n",
      "| 18|     [retweet, agre]|     [retweet, agre]|\n",
      "| 19|[#friday, , smile...|[#friday, smile, ...|\n",
      "| 20|[know, essenti, o...|[know, essenti, o...|\n",
      "+---+--------------------+--------------------+\n",
      "only showing top 20 rows\n",
      "\n"
     ]
    }
   ],
   "source": [
    "df_final_words.show()"
   ]
  },
  {
   "cell_type": "code",
   "execution_count": 37,
   "id": "2017be62",
   "metadata": {},
   "outputs": [
    {
     "name": "stdout",
     "output_type": "stream",
     "text": [
      "+---+--------------------+\n",
      "| id|               words|\n",
      "+---+--------------------+\n",
      "|  1|[father, dysfunct...|\n",
      "|  2|[thank, #lyft, cr...|\n",
      "|  3|   [bihday, majesti]|\n",
      "|  4|[#model, love, ta...|\n",
      "|  5|[factsguid, socie...|\n",
      "|  6|[huge, fan, fare,...|\n",
      "|  7|[camp, tomorrow, ...|\n",
      "|  8|[next, school, ye...|\n",
      "|  9|[won, love, land,...|\n",
      "| 10|       [welcom, #gr]|\n",
      "| 11|[#ireland, consum...|\n",
      "| 12|[selfish, #orland...|\n",
      "| 13|[get, see, daddi,...|\n",
      "| 14|[#cnn, call, #mic...|\n",
      "| 15|[comment, #austra...|\n",
      "| 16|[ouchjunior, angr...|\n",
      "| 17|[thank, paner, #t...|\n",
      "| 18|     [retweet, agre]|\n",
      "| 19|[#friday, smile, ...|\n",
      "| 20|[know, essenti, o...|\n",
      "+---+--------------------+\n",
      "only showing top 20 rows\n",
      "\n"
     ]
    }
   ],
   "source": [
    "df = df_final_words.select('id','words')\n",
    "df.show()"
   ]
  },
  {
   "cell_type": "code",
   "execution_count": 38,
   "id": "79667020",
   "metadata": {},
   "outputs": [],
   "source": [
    "train_data = train_data.join(df, on= 'id', how='inner')"
   ]
  },
  {
   "cell_type": "code",
   "execution_count": 39,
   "id": "d9d171b3",
   "metadata": {},
   "outputs": [
    {
     "name": "stdout",
     "output_type": "stream",
     "text": [
      "+---+-----+--------------------+---------+----------+--------------------+--------------------+\n",
      "| id|label|               tweet|len_tweet|word_count|                tidy|               words|\n",
      "+---+-----+--------------------+---------+----------+--------------------+--------------------+\n",
      "|  1|    0| @user when a fat...|      102|        21|  when a father i...|[father, dysfunct...|\n",
      "|  2|    0|@user @user thank...|      122|        22|  thanks for #lyf...|[thank, #lyft, cr...|\n",
      "|  3|    0|  bihday your maj...|       21|         5|  bihday your maj...|   [bihday, majesti]|\n",
      "|  4|    0|#model   i love u...|       86|        17|#model   i love u...|[#model, love, ta...|\n",
      "|  5|    0| factsguide: soci...|       39|         8| factsguide socie...|[factsguid, socie...|\n",
      "|  6|    0|[2/2] huge fan fa...|      116|        21| huge fan fare an...|[huge, fan, fare,...|\n",
      "|  7|    0| @user camping to...|       74|        12|  camping tomorro...|[camp, tomorrow, ...|\n",
      "|  8|    0|the next school y...|      143|        23|the next school y...|[next, school, ye...|\n",
      "|  9|    0|we won!!! love th...|       87|        13|we won love the l...|[won, love, land,...|\n",
      "| 10|    0| @user @user welc...|       50|        15|   welcome here  ...|       [welcom, #gr]|\n",
      "| 11|    0| â #ireland con...|      111|        21|  #ireland consum...|[#ireland, consum...|\n",
      "| 12|    0|we are so selfish...|      133|        16|we are so selfish...|[selfish, #orland...|\n",
      "| 13|    0|i get to see my d...|       51|        11|i get to see my d...|[get, see, daddi,...|\n",
      "| 14|    1|@user #cnn calls ...|       74|        14| #cnn calls #mich...|[#cnn, call, #mic...|\n",
      "| 15|    1|no comment!  in #...|      101|        13|no comment  in #a...|[comment, #austra...|\n",
      "| 16|    0|ouch...junior is ...|       56|         9|ouchjunior is ang...|[ouchjunior, angr...|\n",
      "| 17|    0|i am thankful for...|       58|        14|i am thankful for...|[thank, paner, #t...|\n",
      "| 18|    1|retweet if you ag...|       22|         5|retweet if you ag...|     [retweet, agre]|\n",
      "| 19|    0|its #friday! ð...|       78|        16|its #friday  smil...|[#friday, smile, ...|\n",
      "| 20|    0|as we all know, e...|       58|        12|as we all know es...|[know, essenti, o...|\n",
      "+---+-----+--------------------+---------+----------+--------------------+--------------------+\n",
      "only showing top 20 rows\n",
      "\n"
     ]
    }
   ],
   "source": [
    "train_data.show()"
   ]
  },
  {
   "cell_type": "code",
   "execution_count": 40,
   "id": "e29296e0",
   "metadata": {},
   "outputs": [
    {
     "name": "stdout",
     "output_type": "stream",
     "text": [
      "root\n",
      " |-- id: integer (nullable = true)\n",
      " |-- label: integer (nullable = true)\n",
      " |-- tweet: string (nullable = true)\n",
      " |-- len_tweet: integer (nullable = true)\n",
      " |-- word_count: integer (nullable = false)\n",
      " |-- tidy: string (nullable = true)\n",
      " |-- words: array (nullable = true)\n",
      " |    |-- element: string (containsNull = true)\n",
      "\n"
     ]
    }
   ],
   "source": [
    "train_data.printSchema()"
   ]
  },
  {
   "cell_type": "code",
   "execution_count": 41,
   "id": "a622dc79",
   "metadata": {},
   "outputs": [
    {
     "name": "stdout",
     "output_type": "stream",
     "text": [
      "+---+-----+--------------------+---------+----------+--------------------+--------------------+--------------------+\n",
      "| id|label|               tweet|len_tweet|word_count|                tidy|               words|              result|\n",
      "+---+-----+--------------------+---------+----------+--------------------+--------------------+--------------------+\n",
      "|  1|    0| @user when a fat...|      102|        21|  when a father i...|[father, dysfunct...|[-0.1125749397490...|\n",
      "|  2|    0|@user @user thank...|      122|        22|  thanks for #lyf...|[thank, #lyft, cr...|[-0.0416154510055...|\n",
      "|  3|    0|  bihday your maj...|       21|         5|  bihday your maj...|   [bihday, majesti]|[-0.1852476615458...|\n",
      "|  4|    0|#model   i love u...|       86|        17|#model   i love u...|[#model, love, ta...|[-0.3600467555224...|\n",
      "|  5|    0| factsguide: soci...|       39|         8| factsguide socie...|[factsguid, socie...|[0.03921172146995...|\n",
      "|  6|    0|[2/2] huge fan fa...|      116|        21| huge fan fare an...|[huge, fan, fare,...|[0.01386859775944...|\n",
      "|  7|    0| @user camping to...|       74|        12|  camping tomorro...|[camp, tomorrow, ...|[-0.0323704493542...|\n",
      "|  8|    0|the next school y...|      143|        23|the next school y...|[next, school, ye...|[-0.0675395684894...|\n",
      "|  9|    0|we won!!! love th...|       87|        13|we won love the l...|[won, love, land,...|[-0.0074810957303...|\n",
      "| 10|    0| @user @user welc...|       50|        15|   welcome here  ...|       [welcom, #gr]|[0.02906331419944...|\n",
      "+---+-----+--------------------+---------+----------+--------------------+--------------------+--------------------+\n",
      "only showing top 10 rows\n",
      "\n"
     ]
    }
   ],
   "source": [
    "from pyspark.ml.feature import Word2Vec\n",
    "\n",
    "#create an average word vector for each document\n",
    "word2vec = Word2Vec(vectorSize = 50, minCount = 5, inputCol = 'words', outputCol = 'result', seed = 7)\n",
    "model = word2vec.fit(train_data)\n",
    "result = model.transform(train_data)\n",
    "\n",
    "result.show(10)\n"
   ]
  },
  {
   "cell_type": "code",
   "execution_count": 42,
   "id": "e9a7d316",
   "metadata": {},
   "outputs": [],
   "source": [
    "# importing the libraries\n",
    "from pyspark.ml import classification\n",
    "from pyspark.ml.evaluation import BinaryClassificationEvaluator"
   ]
  },
  {
   "cell_type": "code",
   "execution_count": 43,
   "id": "f8d077d1",
   "metadata": {},
   "outputs": [],
   "source": [
    "# splitting the data into training and validation sets\n",
    "train_cv, valid_cv = result.randomSplit([0.7, 0.3], seed= 9)"
   ]
  },
  {
   "cell_type": "code",
   "execution_count": 44,
   "id": "be5b0c11",
   "metadata": {},
   "outputs": [],
   "source": [
    "# defining logistic regression model\n",
    "model_LR = classification.LogisticRegression(featuresCol=\"result\", labelCol=\"label\")"
   ]
  },
  {
   "cell_type": "code",
   "execution_count": 45,
   "id": "209088e1",
   "metadata": {},
   "outputs": [],
   "source": [
    "model_LR = model_LR.fit(train_cv)"
   ]
  },
  {
   "cell_type": "code",
   "execution_count": 46,
   "id": "9fb6dc6b",
   "metadata": {},
   "outputs": [
    {
     "data": {
      "text/plain": [
       "0.8557614673656221"
      ]
     },
     "execution_count": 46,
     "metadata": {},
     "output_type": "execute_result"
    }
   ],
   "source": [
    "# Evaluate training data\n",
    "evaluator = BinaryClassificationEvaluator(labelCol=\"label\", metricName=\"areaUnderROC\") \n",
    "evaluator.evaluate(model_LR.transform(train_cv)) "
   ]
  },
  {
   "cell_type": "code",
   "execution_count": 47,
   "id": "f013865b",
   "metadata": {},
   "outputs": [
    {
     "data": {
      "text/plain": [
       "0.8536711946288088"
      ]
     },
     "execution_count": 47,
     "metadata": {},
     "output_type": "execute_result"
    }
   ],
   "source": [
    "evaluator.evaluate(model_LR.transform(valid_cv))"
   ]
  },
  {
   "cell_type": "markdown",
   "id": "25e46cb6",
   "metadata": {},
   "source": [
    "As the training data is highly imbalanced, area under ROC is not a good measure to evaluate, hence checking area under PR curve also"
   ]
  },
  {
   "cell_type": "code",
   "execution_count": 48,
   "id": "e659da33",
   "metadata": {},
   "outputs": [
    {
     "data": {
      "text/plain": [
       "0.4016919627618745"
      ]
     },
     "execution_count": 48,
     "metadata": {},
     "output_type": "execute_result"
    }
   ],
   "source": [
    "# Evaluate training data\n",
    "evaluator = BinaryClassificationEvaluator(labelCol=\"label\", metricName=\"areaUnderPR\") \n",
    "evaluator.evaluate(model_LR.transform(train_cv)) "
   ]
  },
  {
   "cell_type": "code",
   "execution_count": 49,
   "id": "3b8ed954",
   "metadata": {},
   "outputs": [
    {
     "data": {
      "text/plain": [
       "0.40662287938577585"
      ]
     },
     "execution_count": 49,
     "metadata": {},
     "output_type": "execute_result"
    }
   ],
   "source": [
    "evaluator.evaluate(model_LR.transform(valid_cv))"
   ]
  },
  {
   "cell_type": "code",
   "execution_count": 50,
   "id": "9040ccd3",
   "metadata": {},
   "outputs": [],
   "source": [
    "# importing the CrossValidator and ParamGridBuilder\n",
    "from pyspark.ml.tuning import CrossValidator, ParamGridBuilder"
   ]
  },
  {
   "cell_type": "code",
   "execution_count": 51,
   "id": "32fe9637",
   "metadata": {},
   "outputs": [],
   "source": [
    "# create the object of the Logistic Regression Model\n",
    "model_LR_CV = classification.LogisticRegression(featuresCol= \"result\",  labelCol=\"label\")"
   ]
  },
  {
   "cell_type": "code",
   "execution_count": 52,
   "id": "5e13f0c1",
   "metadata": {},
   "outputs": [],
   "source": [
    "\n",
    "updated_params = ParamGridBuilder() \\\n",
    "                .addGrid(model_LR_CV.regParam, [0.01, 0.005, 0.0001]) \\\n",
    "                .addGrid(model_LR_CV.elasticNetParam, [0.1, 0.001]) \\\n",
    "                .build()"
   ]
  },
  {
   "cell_type": "code",
   "execution_count": 53,
   "id": "51a1681f",
   "metadata": {},
   "outputs": [],
   "source": [
    "# create object of the Cross Calidator with 3 folds\n",
    "cv = CrossValidator(estimator=model_LR_CV,\n",
    "                    estimatorParamMaps=updated_params,\n",
    "                    evaluator=evaluator,\n",
    "                    numFolds=3,\n",
    "                    seed=27)"
   ]
  },
  {
   "cell_type": "code",
   "execution_count": 54,
   "id": "9a70f392",
   "metadata": {},
   "outputs": [],
   "source": [
    "grid_model = cv.fit(result)"
   ]
  },
  {
   "cell_type": "code",
   "execution_count": 55,
   "id": "1df47b12",
   "metadata": {},
   "outputs": [
    {
     "data": {
      "text/plain": [
       "0.8465198903713883"
      ]
     },
     "execution_count": 55,
     "metadata": {},
     "output_type": "execute_result"
    }
   ],
   "source": [
    "# evaluate the model\n",
    "evaluator = BinaryClassificationEvaluator(labelCol=\"label\",metricName=\"areaUnderROC\") \n",
    "evaluator.evaluate(grid_model.transform(result))"
   ]
  },
  {
   "cell_type": "code",
   "execution_count": 56,
   "id": "4f5da07a",
   "metadata": {},
   "outputs": [
    {
     "data": {
      "text/plain": [
       "0.40255563577342035"
      ]
     },
     "execution_count": 56,
     "metadata": {},
     "output_type": "execute_result"
    }
   ],
   "source": [
    "# Evaluate training data\n",
    "evaluator = BinaryClassificationEvaluator(labelCol=\"label\", metricName=\"areaUnderPR\") \n",
    "evaluator.evaluate(model_LR.transform(result)) "
   ]
  },
  {
   "cell_type": "code",
   "execution_count": 57,
   "id": "f0e79b9e",
   "metadata": {},
   "outputs": [],
   "source": [
    "# extract the best model parameters dictionary\n",
    "param_dict = grid_model.bestModel.extractParamMap()\n",
    "# created a filtered dictionary\n",
    "final_dict = {}\n",
    "for k, v in param_dict.items():\n",
    "    final_dict[k.name] = v"
   ]
  },
  {
   "cell_type": "code",
   "execution_count": 58,
   "id": "7bfe3ab1",
   "metadata": {},
   "outputs": [
    {
     "data": {
      "text/plain": [
       "0.0001"
      ]
     },
     "execution_count": 58,
     "metadata": {},
     "output_type": "execute_result"
    }
   ],
   "source": [
    "final_dict['regParam']"
   ]
  },
  {
   "cell_type": "code",
   "execution_count": 59,
   "id": "b75222cb",
   "metadata": {},
   "outputs": [
    {
     "data": {
      "text/plain": [
       "0.1"
      ]
     },
     "execution_count": 59,
     "metadata": {},
     "output_type": "execute_result"
    }
   ],
   "source": [
    "final_dict['elasticNetParam']"
   ]
  },
  {
   "cell_type": "code",
   "execution_count": 60,
   "id": "f2269a22",
   "metadata": {},
   "outputs": [],
   "source": [
    "# final model\n",
    "model_LR = classification.LogisticRegression(featuresCol=\"result\", labelCol=\"label\", regParam= 0.0001, elasticNetParam= 0.001)"
   ]
  },
  {
   "cell_type": "code",
   "execution_count": 61,
   "id": "c18e98eb",
   "metadata": {},
   "outputs": [],
   "source": [
    "model_LR = model_LR.fit(result)"
   ]
  },
  {
   "cell_type": "code",
   "execution_count": 62,
   "id": "375514ce",
   "metadata": {},
   "outputs": [],
   "source": [
    "from pyspark.ml import Pipeline\n",
    "from pyspark.ml import Transformer\n",
    "from pyspark.ml.param.shared import HasInputCol, HasOutputCol, Param"
   ]
  },
  {
   "cell_type": "code",
   "execution_count": 63,
   "id": "1f1bd78d",
   "metadata": {},
   "outputs": [],
   "source": [
    "# custom transformer to remove username from the tweets\n",
    "\n",
    "class userpatternTransformer(Transformer, HasInputCol,HasOutputCol):\n",
    "    \n",
    "    def __init__(self, dataframe = None, inputCol= None, outputCol= None):\n",
    "        self.dataframe = dataframe\n",
    "        # input columns\n",
    "        self.inputCol  = inputCol\n",
    "        # output column\n",
    "        self.outputCol  = outputCol\n",
    "\n",
    "    \n",
    "    def _transform(self, dataframe):\n",
    "        dataframe = dataframe.withColumn(self.outputCol, (F.lower(F.regexp_replace(self.inputCol, \"@[\\w]*\", \"\"))))\n",
    "        \n",
    "        return dataframe\n",
    "    "
   ]
  },
  {
   "cell_type": "code",
   "execution_count": 64,
   "id": "d2094f43",
   "metadata": {},
   "outputs": [],
   "source": [
    "# custom transformer to remove punctuation marks and special characters from the tweets\n",
    "\n",
    "class specialcharpatternTransformer(Transformer, HasInputCol,HasOutputCol):\n",
    "    \n",
    "    def __init__(self, dataframe = None, inputCol= None, outputCol= None):\n",
    "        self.dataframe = dataframe\n",
    "        # input columns\n",
    "        self.inputCol  = inputCol\n",
    "        # output column\n",
    "        self.outputCol  = outputCol\n",
    "    \n",
    "    def _transform(self, dataframe):\n",
    "        dataframe = dataframe.withColumn(self.outputCol, (F.lower(F.regexp_replace(self.inputCol, \"[^ a-zA-Z#]\", \"\"))))\n",
    "        \n",
    "        return dataframe"
   ]
  },
  {
   "cell_type": "code",
   "execution_count": 65,
   "id": "e7ce67af",
   "metadata": {},
   "outputs": [],
   "source": [
    "# Creating custom to perform word stemming\n",
    "class stemTweets(Transformer):\n",
    "    \n",
    "    def __init__(self, dataframe = None):\n",
    "        self.dataframe = dataframe\n",
    "        \n",
    "    def _transform(self, dataframe):\n",
    "        \n",
    "        # map the countries\n",
    "        dataframe = dataframe.withColumn(\"words_stemmed\", stemmer_udf(dataframe[\"words_clean\"]))\n",
    "        \n",
    "        return dataframe"
   ]
  },
  {
   "cell_type": "code",
   "execution_count": 66,
   "id": "0df0a1b6",
   "metadata": {},
   "outputs": [],
   "source": [
    "# Creating custom to filter words of length > 3\n",
    "class filterLength(Transformer):\n",
    "    \n",
    "    def __init__(self, dataframe = None):\n",
    "        self.dataframe = dataframe\n",
    "        \n",
    "    def _transform(self, dataframe):\n",
    "        \n",
    "        # map the countries\n",
    "        dataframe = dataframe.withColumn('words', filter_length_udf(col('words_stemmed')))\n",
    "        \n",
    "        return dataframe"
   ]
  },
  {
   "cell_type": "code",
   "execution_count": 67,
   "id": "5418982a",
   "metadata": {},
   "outputs": [],
   "source": [
    "stage_1 = userpatternTransformer(inputCol= 'tweet', outputCol= 'tidy1')  # clean\n",
    "\n",
    "stage_2 = specialcharpatternTransformer(inputCol= 'tidy1', outputCol='tidy')  # clean\n",
    "\n",
    "stage_3 = Tokenizer(inputCol='tidy', outputCol='words_token')  # tokenize\n",
    "\n",
    "stage_4 = StopWordsRemover(inputCol='words_token', outputCol='words_clean') # remove stop words\n",
    "\n",
    "stage_5 = stemTweets()  # word stemming\n",
    "\n",
    "stage_6 = filterLength()  # filter words\n",
    "\n",
    "stage_7 = Word2Vec(vectorSize = 50, minCount = 5, inputCol = 'words', outputCol = 'result', seed = 7)  \n",
    "\n",
    "stage_8 = classification.LogisticRegression(featuresCol=\"result\", labelCol=\"label\", regParam= 0.0001, elasticNetParam= 0.001)  # model"
   ]
  },
  {
   "cell_type": "code",
   "execution_count": 68,
   "id": "9e16c23f",
   "metadata": {},
   "outputs": [],
   "source": [
    "# Define pipeline\n",
    "pipeline = Pipeline(stages= [stage_1,\n",
    "                             stage_2,\n",
    "                             stage_3,\n",
    "                             stage_4,\n",
    "                             stage_5,\n",
    "                             stage_6,\n",
    "                             stage_7,\n",
    "                             stage_8])"
   ]
  },
  {
   "cell_type": "code",
   "execution_count": 69,
   "id": "0722f9ab",
   "metadata": {},
   "outputs": [],
   "source": [
    "# reading the train data\n",
    "train_data_pipeline = spark.read.csv(\"train.csv\",inferSchema=True, header=True)"
   ]
  },
  {
   "cell_type": "code",
   "execution_count": 70,
   "id": "6f0aded7",
   "metadata": {},
   "outputs": [
    {
     "name": "stdout",
     "output_type": "stream",
     "text": [
      "+---+-----+--------------------+\n",
      "| id|label|               tweet|\n",
      "+---+-----+--------------------+\n",
      "|  1|    0| @user when a fat...|\n",
      "|  2|    0|@user @user thank...|\n",
      "|  3|    0|  bihday your maj...|\n",
      "|  4|    0|#model   i love u...|\n",
      "|  5|    0| factsguide: soci...|\n",
      "|  6|    0|[2/2] huge fan fa...|\n",
      "|  7|    0| @user camping to...|\n",
      "|  8|    0|the next school y...|\n",
      "|  9|    0|we won!!! love th...|\n",
      "| 10|    0| @user @user welc...|\n",
      "| 11|    0| â #ireland con...|\n",
      "| 12|    0|we are so selfish...|\n",
      "| 13|    0|i get to see my d...|\n",
      "| 14|    1|@user #cnn calls ...|\n",
      "| 15|    1|no comment!  in #...|\n",
      "| 16|    0|ouch...junior is ...|\n",
      "| 17|    0|i am thankful for...|\n",
      "| 18|    1|retweet if you ag...|\n",
      "| 19|    0|its #friday! ð...|\n",
      "| 20|    0|as we all know, e...|\n",
      "+---+-----+--------------------+\n",
      "only showing top 20 rows\n",
      "\n"
     ]
    }
   ],
   "source": [
    "train_data_pipeline.show()"
   ]
  },
  {
   "cell_type": "code",
   "execution_count": 71,
   "id": "f29ceb35",
   "metadata": {},
   "outputs": [],
   "source": [
    "# fit the pipeline with the training data\n",
    "pipeline_model = pipeline.fit(train_data_pipeline)\n",
    "\n",
    "# transform data\n",
    "final_data = pipeline_model.transform(train_data_pipeline.select(\"tweet\"))"
   ]
  },
  {
   "cell_type": "code",
   "execution_count": 72,
   "id": "9c6549e3",
   "metadata": {},
   "outputs": [
    {
     "data": {
      "text/plain": [
       "['tweet',\n",
       " 'tidy1',\n",
       " 'tidy',\n",
       " 'words_token',\n",
       " 'words_clean',\n",
       " 'words_stemmed',\n",
       " 'words',\n",
       " 'result',\n",
       " 'rawPrediction',\n",
       " 'probability',\n",
       " 'prediction']"
      ]
     },
     "execution_count": 72,
     "metadata": {},
     "output_type": "execute_result"
    }
   ],
   "source": [
    "final_data.columns"
   ]
  },
  {
   "cell_type": "code",
   "execution_count": 76,
   "id": "b598be5a",
   "metadata": {},
   "outputs": [
    {
     "name": "stdout",
     "output_type": "stream",
     "text": [
      "+--------------------+----------+\n",
      "|               tweet|prediction|\n",
      "+--------------------+----------+\n",
      "| @user when a fat...|       0.0|\n",
      "|@user @user thank...|       0.0|\n",
      "|  bihday your maj...|       0.0|\n",
      "|#model   i love u...|       0.0|\n",
      "| factsguide: soci...|       0.0|\n",
      "|[2/2] huge fan fa...|       0.0|\n",
      "| @user camping to...|       0.0|\n",
      "|the next school y...|       0.0|\n",
      "|we won!!! love th...|       0.0|\n",
      "| @user @user welc...|       0.0|\n",
      "| â #ireland con...|       0.0|\n",
      "|we are so selfish...|       0.0|\n",
      "|i get to see my d...|       0.0|\n",
      "|@user #cnn calls ...|       0.0|\n",
      "|no comment!  in #...|       0.0|\n",
      "|ouch...junior is ...|       0.0|\n",
      "|i am thankful for...|       0.0|\n",
      "|retweet if you ag...|       0.0|\n",
      "|its #friday! ð...|       0.0|\n",
      "|as we all know, e...|       0.0|\n",
      "+--------------------+----------+\n",
      "only showing top 20 rows\n",
      "\n"
     ]
    }
   ],
   "source": [
    "final_data.select(\"tweet\", \"prediction\").show()"
   ]
  },
  {
   "cell_type": "code",
   "execution_count": 77,
   "id": "946f6e8c",
   "metadata": {},
   "outputs": [],
   "source": [
    "# importing the libraries\n",
    "from pyspark.streaming import StreamingContext\n",
    "from os import sys"
   ]
  },
  {
   "cell_type": "code",
   "execution_count": 78,
   "id": "4c0fa38d",
   "metadata": {},
   "outputs": [],
   "source": [
    "# defining streaming context\n",
    "ssc = StreamingContext(spark, batchDuration= 3)"
   ]
  },
  {
   "cell_type": "code",
   "execution_count": 79,
   "id": "1baa7dd1",
   "metadata": {},
   "outputs": [],
   "source": [
    "# Create DataFrame representing the stream of input lines from connection to localhost:9990\n",
    "lines = spark \\\n",
    "  .readStream \\\n",
    "  .format(\"socket\") \\\n",
    "  .option(\"host\", \"localhost\") \\\n",
    "  .option(\"port\", 9990) \\\n",
    "  .load().withColumnRenamed(\"value\",\"tweet\")"
   ]
  },
  {
   "cell_type": "code",
   "execution_count": 80,
   "id": "4277bf34",
   "metadata": {},
   "outputs": [],
   "source": [
    "# processing the pipeline\n",
    "processed_df = pipeline_model.transform(lines).select('tweet','prediction')"
   ]
  },
  {
   "cell_type": "code",
   "execution_count": 81,
   "id": "caf89d0f",
   "metadata": {},
   "outputs": [
    {
     "name": "stdout",
     "output_type": "stream",
     "text": [
      "root\n",
      " |-- tweet: string (nullable = true)\n",
      "\n"
     ]
    }
   ],
   "source": [
    "lines.printSchema()"
   ]
  },
  {
   "cell_type": "code",
   "execution_count": 82,
   "id": "c0c2436b",
   "metadata": {},
   "outputs": [
    {
     "ename": "StreamingQueryException",
     "evalue": "Job aborted.\n=== Streaming Query ===\nIdentifier: [id = 5e2303c2-dc35-47cb-a0be-46b2682eaffb, runId = cd47aaf2-4b0b-4fc9-acbf-459cc2064d46]\nCurrent Committed Offsets: {TextSocketV2[host: localhost, port: 9990]: 0}\nCurrent Available Offsets: {TextSocketV2[host: localhost, port: 9990]: 1}\n\nCurrent State: ACTIVE\nThread State: RUNNABLE\n\nLogical Plan:\nProject [tweet#20952, prediction#21048]\n+- Project [tweet#20952, tidy1#20954, tidy#20957, words_token#20964, words_clean#20975, words_stemmed#20985, words#20993, result#21004, rawPrediction#21018, probability#21031, UDF(rawPrediction#21018) AS prediction#21048]\n   +- Project [tweet#20952, tidy1#20954, tidy#20957, words_token#20964, words_clean#20975, words_stemmed#20985, words#20993, result#21004, rawPrediction#21018, UDF(rawPrediction#21018) AS probability#21031]\n      +- Project [tweet#20952, tidy1#20954, tidy#20957, words_token#20964, words_clean#20975, words_stemmed#20985, words#20993, result#21004, UDF(result#21004) AS rawPrediction#21018]\n         +- Project [tweet#20952, tidy1#20954, tidy#20957, words_token#20964, words_clean#20975, words_stemmed#20985, words#20993, UDF(words#20993) AS result#21004]\n            +- Project [tweet#20952, tidy1#20954, tidy#20957, words_token#20964, words_clean#20975, words_stemmed#20985, <lambda>(words_stemmed#20985) AS words#20993]\n               +- Project [tweet#20952, tidy1#20954, tidy#20957, words_token#20964, words_clean#20975, <lambda>(words_clean#20975) AS words_stemmed#20985]\n                  +- Project [tweet#20952, tidy1#20954, tidy#20957, words_token#20964, UDF(words_token#20964) AS words_clean#20975]\n                     +- Project [tweet#20952, tidy1#20954, tidy#20957, UDF(tidy#20957) AS words_token#20964]\n                        +- Project [tweet#20952, tidy1#20954, lower(regexp_replace(tidy1#20954, [^ a-zA-Z#], , 1)) AS tidy#20957]\n                           +- Project [tweet#20952, lower(regexp_replace(tweet#20952, @[\\w]*, , 1)) AS tidy1#20954]\n                              +- Project [value#20950 AS tweet#20952]\n                                 +- StreamingDataSourceV2Relation [value#20950], org.apache.spark.sql.execution.streaming.sources.TextSocketTable$$anon$1@307f1757, TextSocketV2[host: localhost, port: 9990]\n",
     "output_type": "error",
     "traceback": [
      "\u001b[0;31m---------------------------------------------------------------------------\u001b[0m",
      "\u001b[0;31mStreamingQueryException\u001b[0m                   Traceback (most recent call last)",
      "\u001b[0;32m<ipython-input-82-c3673fc14921>\u001b[0m in \u001b[0;36m<module>\u001b[0;34m\u001b[0m\n\u001b[1;32m     11\u001b[0m \u001b[0;34m\u001b[0m\u001b[0m\n\u001b[1;32m     12\u001b[0m \u001b[0;34m\u001b[0m\u001b[0m\n\u001b[0;32m---> 13\u001b[0;31m \u001b[0mquery\u001b[0m\u001b[0;34m.\u001b[0m\u001b[0mawaitTermination\u001b[0m\u001b[0;34m(\u001b[0m\u001b[0;36m10\u001b[0m\u001b[0;34m)\u001b[0m\u001b[0;34m\u001b[0m\u001b[0;34m\u001b[0m\u001b[0m\n\u001b[0m",
      "\u001b[0;32m~/.local/lib/python3.6/site-packages/pyspark/sql/streaming.py\u001b[0m in \u001b[0;36mawaitTermination\u001b[0;34m(self, timeout)\u001b[0m\n\u001b[1;32m     97\u001b[0m             \u001b[0;32mif\u001b[0m \u001b[0;32mnot\u001b[0m \u001b[0misinstance\u001b[0m\u001b[0;34m(\u001b[0m\u001b[0mtimeout\u001b[0m\u001b[0;34m,\u001b[0m \u001b[0;34m(\u001b[0m\u001b[0mint\u001b[0m\u001b[0;34m,\u001b[0m \u001b[0mfloat\u001b[0m\u001b[0;34m)\u001b[0m\u001b[0;34m)\u001b[0m \u001b[0;32mor\u001b[0m \u001b[0mtimeout\u001b[0m \u001b[0;34m<\u001b[0m \u001b[0;36m0\u001b[0m\u001b[0;34m:\u001b[0m\u001b[0;34m\u001b[0m\u001b[0;34m\u001b[0m\u001b[0m\n\u001b[1;32m     98\u001b[0m                 \u001b[0;32mraise\u001b[0m \u001b[0mValueError\u001b[0m\u001b[0;34m(\u001b[0m\u001b[0;34m\"timeout must be a positive integer or float. Got %s\"\u001b[0m \u001b[0;34m%\u001b[0m \u001b[0mtimeout\u001b[0m\u001b[0;34m)\u001b[0m\u001b[0;34m\u001b[0m\u001b[0;34m\u001b[0m\u001b[0m\n\u001b[0;32m---> 99\u001b[0;31m             \u001b[0;32mreturn\u001b[0m \u001b[0mself\u001b[0m\u001b[0;34m.\u001b[0m\u001b[0m_jsq\u001b[0m\u001b[0;34m.\u001b[0m\u001b[0mawaitTermination\u001b[0m\u001b[0;34m(\u001b[0m\u001b[0mint\u001b[0m\u001b[0;34m(\u001b[0m\u001b[0mtimeout\u001b[0m \u001b[0;34m*\u001b[0m \u001b[0;36m1000\u001b[0m\u001b[0;34m)\u001b[0m\u001b[0;34m)\u001b[0m\u001b[0;34m\u001b[0m\u001b[0;34m\u001b[0m\u001b[0m\n\u001b[0m\u001b[1;32m    100\u001b[0m         \u001b[0;32melse\u001b[0m\u001b[0;34m:\u001b[0m\u001b[0;34m\u001b[0m\u001b[0;34m\u001b[0m\u001b[0m\n\u001b[1;32m    101\u001b[0m             \u001b[0;32mreturn\u001b[0m \u001b[0mself\u001b[0m\u001b[0;34m.\u001b[0m\u001b[0m_jsq\u001b[0m\u001b[0;34m.\u001b[0m\u001b[0mawaitTermination\u001b[0m\u001b[0;34m(\u001b[0m\u001b[0;34m)\u001b[0m\u001b[0;34m\u001b[0m\u001b[0;34m\u001b[0m\u001b[0m\n",
      "\u001b[0;32m~/.local/lib/python3.6/site-packages/py4j/java_gateway.py\u001b[0m in \u001b[0;36m__call__\u001b[0;34m(self, *args)\u001b[0m\n\u001b[1;32m   1320\u001b[0m         \u001b[0manswer\u001b[0m \u001b[0;34m=\u001b[0m \u001b[0mself\u001b[0m\u001b[0;34m.\u001b[0m\u001b[0mgateway_client\u001b[0m\u001b[0;34m.\u001b[0m\u001b[0msend_command\u001b[0m\u001b[0;34m(\u001b[0m\u001b[0mcommand\u001b[0m\u001b[0;34m)\u001b[0m\u001b[0;34m\u001b[0m\u001b[0;34m\u001b[0m\u001b[0m\n\u001b[1;32m   1321\u001b[0m         return_value = get_return_value(\n\u001b[0;32m-> 1322\u001b[0;31m             answer, self.gateway_client, self.target_id, self.name)\n\u001b[0m\u001b[1;32m   1323\u001b[0m \u001b[0;34m\u001b[0m\u001b[0m\n\u001b[1;32m   1324\u001b[0m         \u001b[0;32mfor\u001b[0m \u001b[0mtemp_arg\u001b[0m \u001b[0;32min\u001b[0m \u001b[0mtemp_args\u001b[0m\u001b[0;34m:\u001b[0m\u001b[0;34m\u001b[0m\u001b[0;34m\u001b[0m\u001b[0m\n",
      "\u001b[0;32m~/.local/lib/python3.6/site-packages/pyspark/sql/utils.py\u001b[0m in \u001b[0;36mdeco\u001b[0;34m(*a, **kw)\u001b[0m\n\u001b[1;32m    115\u001b[0m                 \u001b[0;31m# Hide where the exception came from that shows a non-Pythonic\u001b[0m\u001b[0;34m\u001b[0m\u001b[0;34m\u001b[0m\u001b[0;34m\u001b[0m\u001b[0m\n\u001b[1;32m    116\u001b[0m                 \u001b[0;31m# JVM exception message.\u001b[0m\u001b[0;34m\u001b[0m\u001b[0;34m\u001b[0m\u001b[0;34m\u001b[0m\u001b[0m\n\u001b[0;32m--> 117\u001b[0;31m                 \u001b[0;32mraise\u001b[0m \u001b[0mconverted\u001b[0m \u001b[0;32mfrom\u001b[0m \u001b[0;32mNone\u001b[0m\u001b[0;34m\u001b[0m\u001b[0;34m\u001b[0m\u001b[0m\n\u001b[0m\u001b[1;32m    118\u001b[0m             \u001b[0;32melse\u001b[0m\u001b[0;34m:\u001b[0m\u001b[0;34m\u001b[0m\u001b[0;34m\u001b[0m\u001b[0m\n\u001b[1;32m    119\u001b[0m                 \u001b[0;32mraise\u001b[0m\u001b[0;34m\u001b[0m\u001b[0;34m\u001b[0m\u001b[0m\n",
      "\u001b[0;31mStreamingQueryException\u001b[0m: Job aborted.\n=== Streaming Query ===\nIdentifier: [id = 5e2303c2-dc35-47cb-a0be-46b2682eaffb, runId = cd47aaf2-4b0b-4fc9-acbf-459cc2064d46]\nCurrent Committed Offsets: {TextSocketV2[host: localhost, port: 9990]: 0}\nCurrent Available Offsets: {TextSocketV2[host: localhost, port: 9990]: 1}\n\nCurrent State: ACTIVE\nThread State: RUNNABLE\n\nLogical Plan:\nProject [tweet#20952, prediction#21048]\n+- Project [tweet#20952, tidy1#20954, tidy#20957, words_token#20964, words_clean#20975, words_stemmed#20985, words#20993, result#21004, rawPrediction#21018, probability#21031, UDF(rawPrediction#21018) AS prediction#21048]\n   +- Project [tweet#20952, tidy1#20954, tidy#20957, words_token#20964, words_clean#20975, words_stemmed#20985, words#20993, result#21004, rawPrediction#21018, UDF(rawPrediction#21018) AS probability#21031]\n      +- Project [tweet#20952, tidy1#20954, tidy#20957, words_token#20964, words_clean#20975, words_stemmed#20985, words#20993, result#21004, UDF(result#21004) AS rawPrediction#21018]\n         +- Project [tweet#20952, tidy1#20954, tidy#20957, words_token#20964, words_clean#20975, words_stemmed#20985, words#20993, UDF(words#20993) AS result#21004]\n            +- Project [tweet#20952, tidy1#20954, tidy#20957, words_token#20964, words_clean#20975, words_stemmed#20985, <lambda>(words_stemmed#20985) AS words#20993]\n               +- Project [tweet#20952, tidy1#20954, tidy#20957, words_token#20964, words_clean#20975, <lambda>(words_clean#20975) AS words_stemmed#20985]\n                  +- Project [tweet#20952, tidy1#20954, tidy#20957, words_token#20964, UDF(words_token#20964) AS words_clean#20975]\n                     +- Project [tweet#20952, tidy1#20954, tidy#20957, UDF(tidy#20957) AS words_token#20964]\n                        +- Project [tweet#20952, tidy1#20954, lower(regexp_replace(tidy1#20954, [^ a-zA-Z#], , 1)) AS tidy#20957]\n                           +- Project [tweet#20952, lower(regexp_replace(tweet#20952, @[\\w]*, , 1)) AS tidy1#20954]\n                              +- Project [value#20950 AS tweet#20952]\n                                 +- StreamingDataSourceV2Relation [value#20950], org.apache.spark.sql.execution.streaming.sources.TextSocketTable$$anon$1@307f1757, TextSocketV2[host: localhost, port: 9990]\n"
     ]
    }
   ],
   "source": [
    "# Start running the query that prints the running counts to the file sink\n",
    "query = processed_df \\\n",
    "  .writeStream \\\n",
    "  .outputMode(\"append\") \\\n",
    "  .format(\"csv\") \\\n",
    "  .option(\"checkpointLocation\",\"/tmp/checkpoint/\")\\\n",
    "  .start(\"result.csv\")\n",
    "  \n",
    "import time\n",
    "time.sleep(10)\n",
    "\n",
    "\n",
    "query.awaitTermination(10)"
   ]
  },
  {
   "cell_type": "code",
   "execution_count": null,
   "id": "e8faeb16",
   "metadata": {},
   "outputs": [],
   "source": []
  },
  {
   "cell_type": "code",
   "execution_count": null,
   "id": "8393e27d",
   "metadata": {},
   "outputs": [],
   "source": []
  },
  {
   "cell_type": "code",
   "execution_count": null,
   "id": "f4008997",
   "metadata": {},
   "outputs": [],
   "source": []
  },
  {
   "cell_type": "code",
   "execution_count": null,
   "id": "f7d69a98",
   "metadata": {},
   "outputs": [],
   "source": []
  },
  {
   "cell_type": "code",
   "execution_count": null,
   "id": "ff01e9d0",
   "metadata": {},
   "outputs": [],
   "source": [
    "#dataStream = ssc.socketTextStream(\"localhost\",9990)"
   ]
  },
  {
   "cell_type": "code",
   "execution_count": null,
   "id": "9f20384a",
   "metadata": {},
   "outputs": [],
   "source": []
  }
 ],
 "metadata": {
  "kernelspec": {
   "display_name": "Python 3",
   "language": "python",
   "name": "python3"
  },
  "language_info": {
   "codemirror_mode": {
    "name": "ipython",
    "version": 3
   },
   "file_extension": ".py",
   "mimetype": "text/x-python",
   "name": "python",
   "nbconvert_exporter": "python",
   "pygments_lexer": "ipython3",
   "version": "3.6.12"
  }
 },
 "nbformat": 4,
 "nbformat_minor": 5
}
